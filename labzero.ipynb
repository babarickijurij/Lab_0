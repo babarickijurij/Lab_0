{
 "cells": [
  {
   "cell_type": "code",
   "execution_count": 2,
   "id": "d2294a71",
   "metadata": {},
   "outputs": [],
   "source": [
    "N = ord(\"Y\") % 10 + 1 # Yuriy"
   ]
  },
  {
   "cell_type": "code",
   "execution_count": 3,
   "id": "fb746cd3",
   "metadata": {},
   "outputs": [
    {
     "data": {
      "text/plain": [
       "10"
      ]
     },
     "execution_count": 3,
     "metadata": {},
     "output_type": "execute_result"
    }
   ],
   "source": [
    "N"
   ]
  },
  {
   "cell_type": "markdown",
   "id": "dd1ff310",
   "metadata": {},
   "source": [
    "**Країна:** Норвегія"
   ]
  },
  {
   "cell_type": "markdown",
   "id": "c463865a",
   "metadata": {},
   "source": [
    "**Завдання:** Реалізувати алгоритм визначення чи є введене число N сумою двох квадратів натуральних чисел. Тобто визначити такі цілі числа a і b, що a^2+b^2=N. Якщо таких чисел не існую вивести відповідне повідомлення."
   ]
  },
  {
   "cell_type": "markdown",
   "id": "b55d5ab0",
   "metadata": {},
   "source": [
    "# Норвегія\n",
    "\n",
    "Норвегія — країна в Північній Європі, яка славиться своїми природними краєвидами, багатою культурною спадщиною та високим рівнем життя.\n",
    "\n",
    "<div style=\"border: 2px solid black; padding: 10px;\">\n",
    "<strong>Основні факти про Норвегію:</strong>\n",
    "<ul>\n",
    "    <li>Площа: 385,207 км<sup>2</sup></li>\n",
    "    <li>Населення: близько <span style=\"color: green;\">5.4 мільйона</span> осіб</li>\n",
    "    <li>Державний устрій: <em>конституційна монархія</em></li>\n",
    "</ul>\n",
    "</div>\n",
    "\n",
    "## Видатні персоналії\n",
    "1. **Генрік Ібсен** – відомий драматург і поет.\n",
    "2. **Едвард Гріг** – композитор, автор відомих музичних творів.\n",
    "3. **Фрітьйоф Нансен** – дослідник, дипломат, лауреат Нобелівської премії миру.\n",
    "\n",
    "## Пам'ятки культури та природи\n",
    "### Основні культурні пам'ятки\n",
    "- **Ставкірка в Урнесі** — старовинна дерев'яна церква, включена до списку світової спадщини ЮНЕСКО.\n",
    "- **Брюгген** — історичний торговий квартал у місті Берген.\n",
    "\n",
    "### Природні чудеса\n",
    "- **Фіорди Норвегії** — знамениті льодовикові утворення, такі як **Ґейранґер-фіорд** та **Согне-фіорд**.\n",
    "- **Скеля Прекестулен** — популярне місце для туристів, що підноситься над Лісефьордом.\n",
    "\n",
    "## Інформація в таблицях\n",
    "\n",
    "| Параметр            | Значення                      |\n",
    "|---------------------|--------------------------------|\n",
    "| Столиця             | Осло                           |\n",
    "| Офіційна мова       | Норвезька                      |\n",
    "| Валюта              | Норвезька крона (NOK)          |\n",
    "| Членство в організаціях | НАТО, ООН                  |\n",
    "\n",
    "## Гіперпосилання\n",
    "Більше про Норвегію можна прочитати на [офіційному туристичному сайті Норвегії](https://www.visitnorway.com/).\n",
    "\n",
    "\n",
    "**Норвегія** пропонує унікальні можливості для любителів пригод та культурного туризму, роблячи її одним із найпопулярніших напрямків у світі.\n"
   ]
  },
  {
   "cell_type": "markdown",
   "id": "d6951860",
   "metadata": {},
   "source": [
    "## Малюнок флагу Норвегії за допомогою SVG"
   ]
  },
  {
   "cell_type": "code",
   "execution_count": 18,
   "id": "978b9ea7",
   "metadata": {},
   "outputs": [
    {
     "data": {
      "text/html": [
       "\n",
       "<svg width=\"300\" height=\"200\">\n",
       "    <!-- Червоне тло -->\n",
       "    <rect width=\"300\" height=\"200\" fill=\"red\" />\n",
       "    <!-- Білі смуги -->\n",
       "    <rect x=\"75\" width=\"50\" height=\"200\" fill=\"white\" />\n",
       "    <rect y=\"75\" width=\"300\" height=\"50\" fill=\"white\" />\n",
       "    <!-- Сині смуги -->\n",
       "    <rect x=\"90\" width=\"20\" height=\"200\" fill=\"blue\" />\n",
       "    <rect y=\"90\" width=\"300\" height=\"20\" fill=\"blue\" />\n",
       "</svg>\n"
      ],
      "text/plain": [
       "<IPython.core.display.HTML object>"
      ]
     },
     "metadata": {},
     "output_type": "display_data"
    }
   ],
   "source": [
    "from IPython.display import display, HTML\n",
    "\n",
    "svg_code = \"\"\"\n",
    "<svg width=\"300\" height=\"200\">\n",
    "    <!-- Червоне тло -->\n",
    "    <rect width=\"300\" height=\"200\" fill=\"red\" />\n",
    "    <!-- Білі смуги -->\n",
    "    <rect x=\"75\" width=\"50\" height=\"200\" fill=\"white\" />\n",
    "    <rect y=\"75\" width=\"300\" height=\"50\" fill=\"white\" />\n",
    "    <!-- Сині смуги -->\n",
    "    <rect x=\"90\" width=\"20\" height=\"200\" fill=\"blue\" />\n",
    "    <rect y=\"90\" width=\"300\" height=\"20\" fill=\"blue\" />\n",
    "</svg>\n",
    "\"\"\"\n",
    "\n",
    "display(HTML(svg_code))"
   ]
  },
  {
   "cell_type": "code",
   "execution_count": null,
   "id": "ac59822c",
   "metadata": {},
   "outputs": [],
   "source": [
    "def is_sum_of_two_squares(N):\n",
    "    # Перевірка для кожного a від 0 до sqrt(N)\n",
    "    for a in range(int(N**0.5) + 1):\n",
    "        b_squared = N - a**2\n",
    "        if b_squared >= 0:\n",
    "            b = int(b_squared**0.5)\n",
    "            if b**2 == b_squared:\n",
    "                print(f\"Число {N} є сумою квадратів: {a}^2 + {b}^2\")\n",
    "                return\n",
    "    print(f\"Число {N} не є сумою квадратів двох натуральних чисел.\")\n",
    "\n",
    "N = int(input(\"Введіть число N: \"))\n",
    "is_sum_of_two_squares(N)"
   ]
  },
  {
   "cell_type": "code",
   "execution_count": 22,
   "id": "90eadc4b",
   "metadata": {},
   "outputs": [
    {
     "name": "stdout",
     "output_type": "stream",
     "text": [
      "Число 45 є сумою квадратів: 3^2 + 6^2\n"
     ]
    }
   ],
   "source": [
    "is_sum_of_two_squares(45)"
   ]
  },
  {
   "cell_type": "code",
   "execution_count": 23,
   "id": "2cc99ade",
   "metadata": {},
   "outputs": [
    {
     "name": "stdout",
     "output_type": "stream",
     "text": [
      "Число 21 не є сумою квадратів двох натуральних чисел.\n"
     ]
    }
   ],
   "source": [
    "is_sum_of_two_squares(21)"
   ]
  }
 ],
 "metadata": {
  "kernelspec": {
   "display_name": "Python 3 (ipykernel)",
   "language": "python",
   "name": "python3"
  },
  "language_info": {
   "codemirror_mode": {
    "name": "ipython",
    "version": 3
   },
   "file_extension": ".py",
   "mimetype": "text/x-python",
   "name": "python",
   "nbconvert_exporter": "python",
   "pygments_lexer": "ipython3",
   "version": "3.11.5"
  }
 },
 "nbformat": 4,
 "nbformat_minor": 5
}
